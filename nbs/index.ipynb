{
 "cells": [
  {
   "cell_type": "code",
   "execution_count": null,
   "metadata": {},
   "outputs": [],
   "source": [
    "#| hide\n",
    "from nbdev_repro_cwd_err.core import *"
   ]
  },
  {
   "cell_type": "markdown",
   "metadata": {},
   "source": [
    "# nbdev-repro-cwd-err\n",
    "\n",
    "> reproduce an error involving current working directory (cwd)"
   ]
  },
  {
   "cell_type": "markdown",
   "metadata": {},
   "source": [
    "## Description of the error\n",
    "\n",
    "The notebook `nbs/00_core.ipynb` reproduces an error with `nbdev_readme` I'm trying to understand in my [`clip-plot`](https://github.com/fr1ll/clip-plot) repo.\n",
    "\n",
    "Intended behavior:\n",
    "Copy some data from a path relative to code execution (the `assets` folder) into a code relative to the current working directory:\n",
    "```python\n",
    "from shutil import copytree\n",
    "from pathlib import Path\n",
    "src = Path(__file__).parents[1] / \"assets\"\n",
    "dest = Path().cwd() / \"output\"\n",
    "copytree(src, dest, dirs_exist_ok=True)\n",
    "```\n",
    "\n",
    "Since the `__file__` attribute doesn't exist in the notebook, I first set it to `Path().cwd()` in a cell with a  `#| hide` directive.\n",
    "\n",
    "Observations:\n",
    "- The notebook runs fine on its own\n",
    "- `nbdev_test` passes\n",
    "- the script `00_core.py` created by `nbdev_export` runs fine\n",
    "- `nbdev_readme` fails with this error due to `00_core.ipynb`:\n",
    "```python\n",
    "NameError: name '__file__' is not defined\n",
    "```\n",
    "- If I set `__file__` to cwd *without* a `#| hide` directive, I get cwd as the root of my repo rather than as the `nbds` or other folder.\n",
    "\n",
    "\n",
    "Basic question: It looks like `nbdev_readme` runs `00_core.ipynb` in iPython. What's the best way to execute stuff that we don't want to run in the script, such as setting `__file__`? What's the best way to think about this?"
   ]
  },
  {
   "cell_type": "markdown",
   "metadata": {},
   "source": [
    "## Install"
   ]
  },
  {
   "cell_type": "markdown",
   "metadata": {},
   "source": [
    "```sh\n",
    "pip install nbdev_repro_cwd_err\n",
    "```"
   ]
  }
 ],
 "metadata": {
  "kernelspec": {
   "display_name": "Python 3 (ipykernel)",
   "language": "python",
   "name": "python3"
  }
 },
 "nbformat": 4,
 "nbformat_minor": 4
}
