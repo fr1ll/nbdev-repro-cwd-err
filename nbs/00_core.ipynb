{
 "cells": [
  {
   "cell_type": "markdown",
   "metadata": {},
   "source": [
    "# core\n",
    "\n",
    "> Fill in a module description here"
   ]
  },
  {
   "cell_type": "code",
   "execution_count": null,
   "metadata": {},
   "outputs": [],
   "source": [
    "#|default_exp core"
   ]
  },
  {
   "cell_type": "code",
   "execution_count": null,
   "metadata": {},
   "outputs": [],
   "source": [
    "#|hide\n",
    "from nbdev.showdoc import *"
   ]
  },
  {
   "cell_type": "code",
   "execution_count": null,
   "metadata": {},
   "outputs": [],
   "source": [
    "#|export\n",
    "from fastcore.all import in_ipython\n",
    "import nbdev.config"
   ]
  },
  {
   "cell_type": "code",
   "execution_count": null,
   "metadata": {},
   "outputs": [],
   "source": [
    "nb_config = nbdev.config.get_config()"
   ]
  },
  {
   "cell_type": "code",
   "execution_count": null,
   "metadata": {},
   "outputs": [
    {
     "data": {
      "text/plain": [
       "{'repo': 'nbdev-repro-cwd-err', 'lib_name': '%(repo)s', 'version': '0.0.1', 'min_python': '3.8', 'license': 'apache2', 'doc_path': '_docs', 'lib_path': 'nbdev_repro_cwd_err', 'nbs_path': 'nbs', 'recursive': 'True', 'tst_flags': 'notest', 'put_version_in_init': 'True', 'branch': 'main', 'custom_sidebar': 'False', 'doc_host': 'https://%(user)s.github.io', 'doc_baseurl': '/%(repo)s', 'git_url': 'https://github.com/%(user)s/%(repo)s', 'title': '%(lib_name)s', 'audience': 'Developers', 'author': 'Will Sanger', 'author_email': 'willsa@hey.com', 'copyright': '2023 onwards, %(author)s', 'description': 'reproduce an error involving current working directory (cwd)', 'keywords': 'nbdev jupyter notebook python', 'language': 'English', 'status': '3', 'user': 'fr1ll', 'black_formatting': 'False', 'readme_nb': 'index.ipynb', 'allowed_metadata_keys': '', 'allowed_cell_metadata_keys': '', 'jupyter_hooks': 'True', 'clean_ids': 'True', 'clear_all': 'False'}"
      ]
     },
     "execution_count": null,
     "metadata": {},
     "output_type": "execute_result"
    }
   ],
   "source": [
    "nb_config"
   ]
  },
  {
   "cell_type": "code",
   "execution_count": null,
   "metadata": {},
   "outputs": [],
   "source": [
    "#|export\n",
    "if in_ipython():\n",
    "    nbs = os\n",
    "    __file__ = nb_config[\"nbs_path\"] + \"/00_core.ipynb\""
   ]
  },
  {
   "cell_type": "code",
   "execution_count": null,
   "metadata": {},
   "outputs": [],
   "source": [
    "#|export\n",
    "from shutil import copytree\n",
    "from pathlib import Path"
   ]
  },
  {
   "cell_type": "markdown",
   "metadata": {},
   "source": [
    "Intention for next cell:\n",
    "\n",
    "Set `__file__` attribute if in the notebook. If in script, do not set because it already is set."
   ]
  },
  {
   "cell_type": "code",
   "execution_count": null,
   "metadata": {},
   "outputs": [
    {
     "data": {
      "text/plain": [
       "Path('/mnt/c/Users/willi/OneDrive/Documents/git/nbdev-repro-cwd-err')"
      ]
     },
     "execution_count": null,
     "metadata": {},
     "output_type": "execute_result"
    }
   ],
   "source": [
    "#|hide\n",
    "__file__ = (Path().cwd() / \"00_core.ipynb\").as_posix()\n",
    "Path(__file__).parents[1]"
   ]
  },
  {
   "cell_type": "code",
   "execution_count": null,
   "metadata": {},
   "outputs": [],
   "source": [
    "#|export\n",
    "src = Path(__file__).parents[1] / \"assets\"\n",
    "dest = Path().cwd() / \"output\""
   ]
  },
  {
   "cell_type": "code",
   "execution_count": null,
   "metadata": {},
   "outputs": [],
   "source": [
    "#|export\n",
    "copytree(src, dest, dirs_exist_ok=True)"
   ]
  },
  {
   "cell_type": "code",
   "execution_count": null,
   "metadata": {},
   "outputs": [],
   "source": [
    "#|hide\n",
    "import nbdev; nbdev.nbdev_export()"
   ]
  }
 ],
 "metadata": {
  "kernelspec": {
   "display_name": "Python 3 (ipykernel)",
   "language": "python",
   "name": "python3"
  }
 },
 "nbformat": 4,
 "nbformat_minor": 4
}
