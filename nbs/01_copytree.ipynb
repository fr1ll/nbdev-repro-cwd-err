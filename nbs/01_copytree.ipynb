{
 "cells": [
  {
   "cell_type": "code",
   "execution_count": null,
   "id": "1bc53203-d518-44fc-ad02-da0b11f010e7",
   "metadata": {},
   "outputs": [],
   "source": [
    "#|default_exp copytree"
   ]
  },
  {
   "cell_type": "code",
   "execution_count": null,
   "id": "565f5c8e-25f2-4202-9a9f-77f205036dc5",
   "metadata": {},
   "outputs": [],
   "source": [
    "#|hide\n",
    "from nbdev.showdoc import *"
   ]
  },
  {
   "cell_type": "code",
   "execution_count": null,
   "id": "fe907130-530a-4ab7-9121-80be1afed265",
   "metadata": {},
   "outputs": [],
   "source": [
    "#|export\n",
    "import sys\n",
    "from shutil import copytree"
   ]
  },
  {
   "cell_type": "markdown",
   "id": "343794e7-6b0f-411f-b877-28b30706dc3d",
   "metadata": {},
   "source": [
    "## Cross-version copy tree\n",
    "\n",
    "This is copied from `_copytree` in `nbdev.quarto`.\n",
    "\n",
    "We put this in a separate module for one main reason:\n",
    "\n",
    "When we import this module, we can use it's `__file__` attribute (available when you import anything) to define the source for copying our web files."
   ]
  },
  {
   "cell_type": "code",
   "execution_count": null,
   "id": "0661f9f8-9b95-4732-a814-649659d5cb44",
   "metadata": {},
   "outputs": [],
   "source": [
    "#|export\n",
    "def copytree_agnostic(a,b):\n",
    "    if sys.version_info.major >=3 and sys.version_info.minor >=8: copytree(a, b, dirs_exist_ok=True)\n",
    "    else:\n",
    "        from distutils.dir_util import copy_tree\n",
    "        copy_tree(a, b)"
   ]
  },
  {
   "cell_type": "code",
   "execution_count": null,
   "id": "4f08fedb-7074-4bc6-990f-5775d72899d8",
   "metadata": {},
   "outputs": [],
   "source": [
    "#| hide \n",
    "# put in a test for copytree"
   ]
  },
  {
   "cell_type": "code",
   "execution_count": null,
   "id": "2b81f437-ec96-4ae0-90a1-f2fc2618a4aa",
   "metadata": {},
   "outputs": [],
   "source": [
    "#|hide\n",
    "import nbdev; nbdev.nbdev_export()"
   ]
  }
 ],
 "metadata": {
  "kernelspec": {
   "display_name": "Python 3 (ipykernel)",
   "language": "python",
   "name": "python3"
  }
 },
 "nbformat": 4,
 "nbformat_minor": 5
}
